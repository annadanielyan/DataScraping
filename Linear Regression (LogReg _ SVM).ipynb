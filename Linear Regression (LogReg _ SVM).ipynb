{
 "cells": [
  {
   "cell_type": "markdown",
   "metadata": {},
   "source": [
    "# Chapter 1"
   ]
  },
  {
   "cell_type": "code",
   "execution_count": 1,
   "metadata": {},
   "outputs": [],
   "source": [
    "import sklearn.datasets\n",
    "\n",
    "newsgroups = sklearn.datasets.fetch_20newsgroups_vectorized()"
   ]
  },
  {
   "cell_type": "code",
   "execution_count": 2,
   "metadata": {},
   "outputs": [],
   "source": [
    "X, y = newsgroups.data, newsgroups.target"
   ]
  },
  {
   "cell_type": "code",
   "execution_count": 3,
   "metadata": {},
   "outputs": [
    {
     "data": {
      "text/plain": [
       "<11314x130107 sparse matrix of type '<class 'numpy.float64'>'\n",
       "\twith 1787565 stored elements in Compressed Sparse Row format>"
      ]
     },
     "execution_count": 3,
     "metadata": {},
     "output_type": "execute_result"
    }
   ],
   "source": [
    "newsgroups.data"
   ]
  },
  {
   "cell_type": "code",
   "execution_count": 4,
   "metadata": {},
   "outputs": [
    {
     "data": {
      "text/plain": [
       "{'data': <11314x130107 sparse matrix of type '<class 'numpy.float64'>'\n",
       " \twith 1787565 stored elements in Compressed Sparse Row format>,\n",
       " 'target': array([17,  7, 10, ..., 14, 12, 11]),\n",
       " 'target_names': ['alt.atheism',\n",
       "  'comp.graphics',\n",
       "  'comp.os.ms-windows.misc',\n",
       "  'comp.sys.ibm.pc.hardware',\n",
       "  'comp.sys.mac.hardware',\n",
       "  'comp.windows.x',\n",
       "  'misc.forsale',\n",
       "  'rec.autos',\n",
       "  'rec.motorcycles',\n",
       "  'rec.sport.baseball',\n",
       "  'rec.sport.hockey',\n",
       "  'sci.crypt',\n",
       "  'sci.electronics',\n",
       "  'sci.med',\n",
       "  'sci.space',\n",
       "  'soc.religion.christian',\n",
       "  'talk.politics.guns',\n",
       "  'talk.politics.mideast',\n",
       "  'talk.politics.misc',\n",
       "  'talk.religion.misc']}"
      ]
     },
     "execution_count": 4,
     "metadata": {},
     "output_type": "execute_result"
    }
   ],
   "source": [
    "newsgroups"
   ]
  },
  {
   "cell_type": "code",
   "execution_count": 5,
   "metadata": {},
   "outputs": [
    {
     "data": {
      "text/plain": [
       "(11314, 130107)"
      ]
     },
     "execution_count": 5,
     "metadata": {},
     "output_type": "execute_result"
    }
   ],
   "source": [
    "X.shape"
   ]
  },
  {
   "cell_type": "code",
   "execution_count": 6,
   "metadata": {},
   "outputs": [
    {
     "data": {
      "text/plain": [
       "(11314,)"
      ]
     },
     "execution_count": 6,
     "metadata": {},
     "output_type": "execute_result"
    }
   ],
   "source": [
    "y.shape"
   ]
  },
  {
   "cell_type": "code",
   "execution_count": 7,
   "metadata": {},
   "outputs": [],
   "source": [
    "from sklearn.neighbors import KNeighborsClassifier\n",
    "\n",
    "knn = KNeighborsClassifier(n_neighbors=1)"
   ]
  },
  {
   "cell_type": "code",
   "execution_count": 8,
   "metadata": {},
   "outputs": [
    {
     "data": {
      "text/plain": [
       "KNeighborsClassifier(algorithm='auto', leaf_size=30, metric='minkowski',\n",
       "           metric_params=None, n_jobs=1, n_neighbors=1, p=2,\n",
       "           weights='uniform')"
      ]
     },
     "execution_count": 8,
     "metadata": {},
     "output_type": "execute_result"
    }
   ],
   "source": [
    "knn.fit(X, y)"
   ]
  },
  {
   "cell_type": "code",
   "execution_count": 9,
   "metadata": {},
   "outputs": [
    {
     "data": {
      "text/plain": [
       "0.9999116139296447"
      ]
     },
     "execution_count": 9,
     "metadata": {},
     "output_type": "execute_result"
    }
   ],
   "source": [
    "y_pred = knn.predict(X)\n",
    "# contains 1 entry per row of X with the prediction from the trained classifier\n",
    "# Why do we use X when predicting y ????\n",
    "\n",
    "# evaluation\n",
    "knn.score(X, y)"
   ]
  },
  {
   "cell_type": "code",
   "execution_count": 10,
   "metadata": {},
   "outputs": [],
   "source": [
    "from sklearn.model_selection import train_test_split\n",
    "\n",
    "X_train, X_test, y_train, y_test = train_test_split(X, y)\n",
    "# by default the test semple is 25% of the data"
   ]
  },
  {
   "cell_type": "code",
   "execution_count": 11,
   "metadata": {},
   "outputs": [
    {
     "data": {
      "text/plain": [
       "0.662778366914104"
      ]
     },
     "execution_count": 11,
     "metadata": {},
     "output_type": "execute_result"
    }
   ],
   "source": [
    "# make sure to train the data on the training set and score on the test set\n",
    "\n",
    "knn.fit(X_train, y_train)\n",
    "\n",
    "knn.score(X_test, y_test)"
   ]
  },
  {
   "cell_type": "code",
   "execution_count": 12,
   "metadata": {},
   "outputs": [],
   "source": [
    "#Overfitting is when the training accuracy is higher than the testing one"
   ]
  },
  {
   "cell_type": "code",
   "execution_count": 13,
   "metadata": {},
   "outputs": [],
   "source": [
    "from sklearn.linear_model import LogisticRegression\n",
    "\n",
    "lr = LogisticRegression()"
   ]
  },
  {
   "cell_type": "code",
   "execution_count": 14,
   "metadata": {},
   "outputs": [
    {
     "data": {
      "text/plain": [
       "0.776599505125486"
      ]
     },
     "execution_count": 14,
     "metadata": {},
     "output_type": "execute_result"
    }
   ],
   "source": [
    "lr.fit(X_train, y_train)\n",
    "lr.predict(X_test) # Why X_test ????\n",
    "lr.score(X_test, y_test)"
   ]
  },
  {
   "cell_type": "code",
   "execution_count": 15,
   "metadata": {},
   "outputs": [],
   "source": [
    "wine = sklearn.datasets.load_wine()"
   ]
  },
  {
   "cell_type": "code",
   "execution_count": 16,
   "metadata": {},
   "outputs": [
    {
     "data": {
      "text/plain": [
       "LogisticRegression(C=1.0, class_weight=None, dual=False, fit_intercept=True,\n",
       "          intercept_scaling=1, max_iter=100, multi_class='ovr', n_jobs=1,\n",
       "          penalty='l2', random_state=None, solver='liblinear', tol=0.0001,\n",
       "          verbose=0, warm_start=False)"
      ]
     },
     "execution_count": 16,
     "metadata": {},
     "output_type": "execute_result"
    }
   ],
   "source": [
    "lr.fit(wine.data, wine.target)"
   ]
  },
  {
   "cell_type": "code",
   "execution_count": 17,
   "metadata": {},
   "outputs": [
    {
     "data": {
      "text/plain": [
       "0.9719101123595506"
      ]
     },
     "execution_count": 17,
     "metadata": {},
     "output_type": "execute_result"
    }
   ],
   "source": [
    "# Computing training accuracy which is abour 97%\n",
    "lr.score(wine.data, wine.target)"
   ]
  },
  {
   "cell_type": "code",
   "execution_count": 18,
   "metadata": {},
   "outputs": [
    {
     "data": {
      "text/plain": [
       "array([[9.95108710e-01, 4.35737706e-03, 5.33912716e-04]])"
      ]
     },
     "execution_count": 18,
     "metadata": {},
     "output_type": "execute_result"
    }
   ],
   "source": [
    "# We can also output confidence scores rather than 'hard' or definite predictions\n",
    "lr.predict_proba(wine.data[:1])\n",
    "\n",
    "# Here we have over 99% confidence for the 1st class and lower one for the rest.\n",
    "# For e we should calculate it as 9.9*(10)^(-1) that is 99%"
   ]
  },
  {
   "cell_type": "code",
   "execution_count": 19,
   "metadata": {},
   "outputs": [
    {
     "data": {
      "text/plain": [
       "0.010101010101010102"
      ]
     },
     "execution_count": 19,
     "metadata": {},
     "output_type": "execute_result"
    }
   ],
   "source": [
    "1/(9.9*10)"
   ]
  },
  {
   "cell_type": "code",
   "execution_count": 20,
   "metadata": {},
   "outputs": [],
   "source": [
    "# The basic SVM classifer is called LinearSVC\n",
    "\n",
    "from sklearn.svm import LinearSVC\n",
    "\n",
    "svm = LinearSVC()"
   ]
  },
  {
   "cell_type": "code",
   "execution_count": 21,
   "metadata": {},
   "outputs": [
    {
     "data": {
      "text/plain": [
       "0.8089887640449438"
      ]
     },
     "execution_count": 21,
     "metadata": {},
     "output_type": "execute_result"
    }
   ],
   "source": [
    "svm.fit(wine.data, wine.target)\n",
    "svm.score(wine.data, wine.target)"
   ]
  },
  {
   "cell_type": "code",
   "execution_count": 22,
   "metadata": {},
   "outputs": [],
   "source": [
    "# SVC fits a nonlinear SVM by default\n",
    "\n",
    "from sklearn.svm import SVC\n",
    "\n",
    "svm = SVC() # default hyperparameters"
   ]
  },
  {
   "cell_type": "code",
   "execution_count": 23,
   "metadata": {},
   "outputs": [
    {
     "data": {
      "text/plain": [
       "1.0"
      ]
     },
     "execution_count": 23,
     "metadata": {},
     "output_type": "execute_result"
    }
   ],
   "source": [
    "svm.fit(wine.data, wine.target)\n",
    "svm.score(wine.data, wine.target)\n",
    "\n",
    "# Here the fit is 100% which can be a sign of overfitting.\n",
    "# It's a common problem we often face when using more complext ,odels like nonlinear SVM"
   ]
  },
  {
   "cell_type": "markdown",
   "metadata": {},
   "source": [
    "Model complexity review:\n",
    "\n",
    "Underfitting: model is too simple, low training accuracy\n",
    "\n",
    "Overfitting: model is too complex, low test accuracy"
   ]
  },
  {
   "cell_type": "markdown",
   "metadata": {},
   "source": [
    "LogReg and SVM are linear classifiers whih means they learn linear decision boundaries.\n",
    "\n",
    "Classification is supervised learnin when the y-values are categories; this is in contrast with regression, where we,re trying to predict a countinues value. "
   ]
  },
  {
   "cell_type": "markdown",
   "metadata": {},
   "source": [
    "Use the ss from datacamp and this link: https://scikit-learn.org/stable/auto_examples/svm/plot_iris.html to get the plotes"
   ]
  },
  {
   "cell_type": "markdown",
   "metadata": {},
   "source": [
    "# Chapter 2: Loss Functions"
   ]
  },
  {
   "cell_type": "markdown",
   "metadata": {},
   "source": [
    "LogReg and Linear SVM have differenr fit f()s but the same predict f(). The differences in fit relate to loss f()s.\n",
    "\n",
    "<p> raw model output=coefficients⋅features+intercept that is `lr.coef_ @ X[10] + lr.intercept_`\n",
    "    \n",
    "<p> So this i what the predict function does for any A: it computes the raw model output, checks if it's + or - and than returns a result based on the names of the classes in your dataset, e.g. 0 and 1"
   ]
  },
  {
   "cell_type": "markdown",
   "metadata": {},
   "source": [
    "**Loss f()**\n",
    "\n",
    "Many ML algorithms involve minimizing a loss, and by understanding this perspective you'll beequipped with  the tools to see connections between models, quickly grasp new ones, and start tailoring them to the data science problem. \n",
    "\n",
    "The loss is used to fit the model on the data, and the **score** is used to see how well we're doing.\n",
    "\n",
    "The squared error from LinearReg is not appropriate for classification problems, as y-values are categories, not numbers. For classification a natural quantity to think abouit is the number of errors we've made. Since we'd like to make this as small as possible, the number of errors might be a good loss f().\n",
    "\n",
    "While the 0-1 loss is important for our conceptual journey, it turns out to be very hard to minimize it directly in practice, which is  why logistic and SVMs **don't use it**.\n",
    "\n",
    "\n",
    "\n",
    "\n",
    "\n"
   ]
  },
  {
   "cell_type": "code",
   "execution_count": 24,
   "metadata": {},
   "outputs": [],
   "source": [
    "from scipy.optimize import minimize"
   ]
  },
  {
   "cell_type": "markdown",
   "metadata": {},
   "source": [
    "What values of my model coeff are minimizing my squared errors ????"
   ]
  },
  {
   "cell_type": "markdown",
   "metadata": {},
   "source": [
    "# Chapter 3: LogReg"
   ]
  },
  {
   "attachments": {
    "image.png": {
     "image/png": "[encoded data removed]"
    }
   },
   "cell_type": "markdown",
   "metadata": {},
   "source": [
    "**Regularization**\n",
    "\n",
    "`\n",
    "lr_weak_reg = LogisticRegression(C=100)\n",
    "lr_strong_reg = LogisticRegression(C=0.01)\n",
    "`\n",
    "\n",
    "The weaker is the reg, the higher is the accuracy of the model!\n",
    "\n",
    "reg. loss =  original loss + large coeff penalty\n",
    "\n",
    "Intuilively, without reg, we are maximizing the training accuracy -- so we do well on that matric. When we add reg, we are modifying the loss f() to penelize lager coeff, which distracts from the original goal of optimizing accuracy.\n",
    "\n",
    "The larger is C the lower is the train acc, but higher the test one. Why?\n",
    "\n",
    "Imagine ou didm't have access to particular feature; that's like setting the corresponding coeff to 0. Regularizing, and thus making the coeff smaller, is like compromise between not using the feature at all (setting the coeef to be 0) and fully using it (the un-regularized coeff value). \n",
    "\n",
    "If using a feature too heavily causing overfitting, then reg causes you  to 'fit less' and thus overfit less. #overfitting is when the train acc >> test acc # \n",
    "\n",
    "For linear reg we use terms Ridge and Lasso for two different types of reg.\n",
    "\n",
    "**L1 vs. L2 regularization**\n",
    "**Lasso** = linear regression with L1 regularization\n",
    "**Ridge** = linear regression with L2 regularization\n",
    "For other models like logistic regression we just say L1, L2, etc.\n",
    "\n",
    "Both help reduce overfitting, and L1 also performs **feature selection**. \n",
    "\n",
    "`\n",
    "lr_L1 = LogisticRegression(penalty='l1')\n",
    "lr_L2 = LogisticRegression() # penalty='l2' by default\n",
    "lr_L1.fit(X_train, y_train)\n",
    "lr_L2.fit(X_train, y_train)\n",
    "plt.plot(lr_L1.coef_.flatten())\n",
    "plt.plot(lr_L2.coef_.flatten())\n",
    "`\n",
    "\n",
    "![image.png](attachment:image.png)\n",
    "\n",
    "L1 set most of the features to 0 thus ignoring them. In other words, it preformed a feature selection for us.\n",
    "\n",
    "On the other hand, L2 shrinks the coeff just to be smaller. This is analogous to what happens with Lasso and Ridge regression.\n",
    "\n"
   ]
  },
  {
   "cell_type": "code",
   "execution_count": 25,
   "metadata": {},
   "outputs": [
    {
     "data": {
      "text/plain": [
       "'# Train and validaton errors initialized as empty list\\ntrain_errs = list()\\nvalid_errs = list()\\n\\n# Loop over values of C\\nfor C_value in [0.001, 0.01, 0.1, 1, 10, 100, 1000]:\\n    # Create LogisticRegression object and fit\\n    lr = LogisticRegression(C=C_value)\\n    lr.fit(X_train, y_train)\\n    \\n    # Evaluate error rates and append to lists\\n    train_errs.append( 1.0 - lr.score(X_train, y_train) )\\n    valid_errs.append( 1.0 - lr.score(X_valid, y_valid) )\\n    \\n# Plot results\\nplt.semilogx(C_values, train_errs, C_values, valid_errs)\\nplt.legend((\"train\", \"validation\"))\\nplt.show()'"
      ]
     },
     "execution_count": 25,
     "metadata": {},
     "output_type": "execute_result"
    }
   ],
   "source": [
    "# Should be used for choosing the best regularization value of C\n",
    "\n",
    "\"\"\"# Train and validaton errors initialized as empty list\n",
    "train_errs = list()\n",
    "valid_errs = list()\n",
    "\n",
    "# Loop over values of C\n",
    "for C_value in [0.001, 0.01, 0.1, 1, 10, 100, 1000]:\n",
    "    # Create LogisticRegression object and fit\n",
    "    lr = LogisticRegression(C=C_value)\n",
    "    lr.fit(X_train, y_train)\n",
    "    \n",
    "    # Evaluate error rates and append to lists\n",
    "    train_errs.append( 1.0 - lr.score(X_train, y_train) )\n",
    "    valid_errs.append( 1.0 - lr.score(X_valid, y_valid) )\n",
    "    \n",
    "# Plot results\n",
    "plt.semilogx(C_values, train_errs, C_values, valid_errs)\n",
    "plt.legend((\"train\", \"validation\"))\n",
    "plt.show()\"\"\""
   ]
  },
  {
   "cell_type": "code",
   "execution_count": 26,
   "metadata": {},
   "outputs": [
    {
     "data": {
      "text/plain": [
       "'# Specify L1 regularization\\nlr = LogisticRegression(penalty=\"l1\")\\n\\n# Instantiate the GridSearchCV object and run the search\\nsearcher = GridSearchCV(lr, {\\'C\\':[0.001, 0.01, 0.1, 1, 10]})\\nsearcher.fit(X_train, y_train)\\n\\n# Report the best parameters\\nprint(\"Best CV params\", searcher.best_params_)\\n\\n# Find the number of nonzero coefficients (selected features)\\nbest_lr = searcher.best_estimator_\\ncoefs = best_lr.coef_\\nprint(\"Total number of features:\", coefs.size)\\nprint(\"Number of selected features:\", np.count_nonzero(coefs))'"
      ]
     },
     "execution_count": 26,
     "metadata": {},
     "output_type": "execute_result"
    }
   ],
   "source": [
    "# Should be used for feature selection!\n",
    "\n",
    "\"\"\"# Specify L1 regularization\n",
    "lr = LogisticRegression(penalty=\"l1\")\n",
    "\n",
    "# Instantiate the GridSearchCV object and run the search\n",
    "searcher = GridSearchCV(lr, {'C':[0.001, 0.01, 0.1, 1, 10]})\n",
    "searcher.fit(X_train, y_train)\n",
    "\n",
    "# Report the best parameters\n",
    "print(\"Best CV params\", searcher.best_params_)\n",
    "\n",
    "# Find the number of nonzero coefficients (selected features)\n",
    "best_lr = searcher.best_estimator_\n",
    "coefs = best_lr.coef_\n",
    "print(\"Total number of features:\", coefs.size)\n",
    "print(\"Number of selected features:\", np.count_nonzero(coefs))\"\"\""
   ]
  },
  {
   "cell_type": "markdown",
   "metadata": {},
   "source": [
    "Reg not only afects the coeff, but also the orientation boundary."
   ]
  },
  {
   "cell_type": "markdown",
   "metadata": {},
   "source": [
    "**Multy-class classifier / one-vs-rest**\n",
    "\n",
    "`\n",
    "lr0.fit(X, y==0)\n",
    "lr1.fit(X, y==1)\n",
    "lr2.fit(X, y==2)\n",
    "`\n",
    "\n",
    "Here lr0 predicts whether the value is 0 or not 0.\n",
    "\n",
    "In order to make predictions using one-vs-rest, we take the class whose classifier gives the largest raw model output - or `decicion_function`, in skikit-learn terminology.\n",
    "\n",
    "We choose the one with the higher output so we have a better confidence the class is *0* than any of the other.\n",
    "\n",
    "By default the y==0 when doing a one-vs rest LogisticClassification.\n",
    "\n",
    "Multinomial LogReg ~~~~ softmax, cross-entropy loss"
   ]
  },
  {
   "cell_type": "code",
   "execution_count": 27,
   "metadata": {},
   "outputs": [
    {
     "data": {
      "text/plain": [
       "'In [1]: lr_ovr = LogisticRegression() # one-vs-rest by default\\n\\nIn [2]: lr_ovr.fit(X,y)\\n\\nIn [3]: lr_ovr.coef_.shape\\nOut[3]: (3,13)\\n\\nIn [4]: lr_ovr.intercept_.shape\\nOut[4]: (3,)'"
      ]
     },
     "execution_count": 27,
     "metadata": {},
     "output_type": "execute_result"
    }
   ],
   "source": [
    "# Should be used for getting COEFICIENTS and INTERSEPTS of the model\n",
    "\n",
    "\"\"\"In [1]: lr_ovr = LogisticRegression() # one-vs-rest by default\n",
    "\n",
    "In [2]: lr_ovr.fit(X,y)\n",
    "\n",
    "In [3]: lr_ovr.coef_.shape\n",
    "Out[3]: (3,13)\n",
    "\n",
    "In [4]: lr_ovr.intercept_.shape\n",
    "Out[4]: (3,)\"\"\""
   ]
  },
  {
   "cell_type": "code",
   "execution_count": null,
   "metadata": {},
   "outputs": [],
   "source": []
  }
 ],
 "metadata": {
  "kernelspec": {
   "display_name": "Python 3",
   "language": "python",
   "name": "python3"
  },
  "language_info": {
   "codemirror_mode": {
    "name": "ipython",
    "version": 3
   },
   "file_extension": ".py",
   "mimetype": "text/x-python",
   "name": "python",
   "nbconvert_exporter": "python",
   "pygments_lexer": "ipython3",
   "version": "3.6.5"
  }
 },
 "nbformat": 4,
 "nbformat_minor": 2
}
