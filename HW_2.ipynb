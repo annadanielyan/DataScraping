{
 "cells": [
  {
   "cell_type": "code",
   "execution_count": 1,
   "metadata": {},
   "outputs": [],
   "source": [
    "# Data Imports\n",
    "import numpy as np\n",
    "import pandas as pd\n",
    "from pandas import Series,DataFrame\n",
    "\n",
    "# Math\n",
    "import math\n",
    "\n",
    "# Plot imports\n",
    "import matplotlib.pyplot as plt\n",
    "import seaborn as sns\n",
    "sns.set_style('whitegrid')\n",
    "%matplotlib inline\n",
    "\n",
    "# Machine Learning Imports\n",
    "from statsmodels.discrete import discrete_model\n",
    "\n",
    "from sklearn.linear_model import LogisticRegression\n",
    "from sklearn.model_selection import train_test_split\n",
    "\n",
    "# For evaluating our ML results\n",
    "from sklearn import metrics\n",
    "\n",
    "# Dataset Import\n",
    "import statsmodels.api as sm"
   ]
  },
  {
   "cell_type": "code",
   "execution_count": 2,
   "metadata": {},
   "outputs": [],
   "source": [
    "data = pd.read_stata('nels_small.dta')"
   ]
  },
  {
   "cell_type": "code",
   "execution_count": 3,
   "metadata": {},
   "outputs": [
    {
     "data": {
      "text/html": [
       "<div>\n",
       "<style scoped>\n",
       "    .dataframe tbody tr th:only-of-type {\n",
       "        vertical-align: middle;\n",
       "    }\n",
       "\n",
       "    .dataframe tbody tr th {\n",
       "        vertical-align: top;\n",
       "    }\n",
       "\n",
       "    .dataframe thead th {\n",
       "        text-align: right;\n",
       "    }\n",
       "</style>\n",
       "<table border=\"1\" class=\"dataframe\">\n",
       "  <thead>\n",
       "    <tr style=\"text-align: right;\">\n",
       "      <th></th>\n",
       "      <th>psechoice</th>\n",
       "      <th>hscath</th>\n",
       "      <th>grades</th>\n",
       "      <th>faminc</th>\n",
       "      <th>famsiz</th>\n",
       "      <th>parcoll</th>\n",
       "      <th>female</th>\n",
       "      <th>black</th>\n",
       "    </tr>\n",
       "  </thead>\n",
       "  <tbody>\n",
       "    <tr>\n",
       "      <th>0</th>\n",
       "      <td>2</td>\n",
       "      <td>0</td>\n",
       "      <td>9.08</td>\n",
       "      <td>62.5</td>\n",
       "      <td>5</td>\n",
       "      <td>0</td>\n",
       "      <td>0</td>\n",
       "      <td>0</td>\n",
       "    </tr>\n",
       "    <tr>\n",
       "      <th>1</th>\n",
       "      <td>2</td>\n",
       "      <td>0</td>\n",
       "      <td>8.31</td>\n",
       "      <td>42.5</td>\n",
       "      <td>4</td>\n",
       "      <td>0</td>\n",
       "      <td>1</td>\n",
       "      <td>0</td>\n",
       "    </tr>\n",
       "    <tr>\n",
       "      <th>2</th>\n",
       "      <td>3</td>\n",
       "      <td>0</td>\n",
       "      <td>7.42</td>\n",
       "      <td>62.5</td>\n",
       "      <td>4</td>\n",
       "      <td>0</td>\n",
       "      <td>1</td>\n",
       "      <td>0</td>\n",
       "    </tr>\n",
       "    <tr>\n",
       "      <th>3</th>\n",
       "      <td>3</td>\n",
       "      <td>0</td>\n",
       "      <td>7.42</td>\n",
       "      <td>62.5</td>\n",
       "      <td>4</td>\n",
       "      <td>0</td>\n",
       "      <td>1</td>\n",
       "      <td>0</td>\n",
       "    </tr>\n",
       "    <tr>\n",
       "      <th>4</th>\n",
       "      <td>3</td>\n",
       "      <td>0</td>\n",
       "      <td>7.42</td>\n",
       "      <td>62.5</td>\n",
       "      <td>4</td>\n",
       "      <td>0</td>\n",
       "      <td>1</td>\n",
       "      <td>0</td>\n",
       "    </tr>\n",
       "  </tbody>\n",
       "</table>\n",
       "</div>"
      ],
      "text/plain": [
       "   psechoice  hscath  grades  faminc  famsiz  parcoll  female  black\n",
       "0          2       0    9.08    62.5       5        0       0      0\n",
       "1          2       0    8.31    42.5       4        0       1      0\n",
       "2          3       0    7.42    62.5       4        0       1      0\n",
       "3          3       0    7.42    62.5       4        0       1      0\n",
       "4          3       0    7.42    62.5       4        0       1      0"
      ]
     },
     "execution_count": 3,
     "metadata": {},
     "output_type": "execute_result"
    }
   ],
   "source": [
    "data.head()"
   ]
  },
  {
   "cell_type": "code",
   "execution_count": 4,
   "metadata": {},
   "outputs": [
    {
     "data": {
      "text/plain": [
       "3    527\n",
       "2    251\n",
       "1    222\n",
       "Name: psechoice, dtype: int64"
      ]
     },
     "execution_count": 4,
     "metadata": {},
     "output_type": "execute_result"
    }
   ],
   "source": [
    "data.psechoice.value_counts()"
   ]
  },
  {
   "cell_type": "markdown",
   "metadata": {},
   "source": [
    "# (a)"
   ]
  },
  {
   "cell_type": "code",
   "execution_count": 5,
   "metadata": {},
   "outputs": [],
   "source": [
    "#generating college variable\n",
    "data['college'] = data.psechoice.replace([1, 2, 3], [0, 1, 1])"
   ]
  },
  {
   "cell_type": "code",
   "execution_count": 6,
   "metadata": {},
   "outputs": [
    {
     "name": "stdout",
     "output_type": "stream",
     "text": [
      "\n",
      " Value counts for psechoice:\n",
      "\n",
      "3    527\n",
      "2    251\n",
      "1    222\n",
      "Name: psechoice, dtype: int64\n",
      "\n",
      " Value counts for college:\n",
      "\n",
      "1    778\n",
      "0    222\n",
      "Name: college, dtype: int64\n"
     ]
    }
   ],
   "source": [
    "print('\\n Value counts for psechoice:\\n')\n",
    "print(data.psechoice.value_counts())\n",
    "\n",
    "print('\\n Value counts for college:\\n')\n",
    "print(data.college.value_counts())"
   ]
  },
  {
   "cell_type": "code",
   "execution_count": 7,
   "metadata": {},
   "outputs": [
    {
     "name": "stdout",
     "output_type": "stream",
     "text": [
      "The percentage of the high school graduates attended college is 77.8 $\n"
     ]
    }
   ],
   "source": [
    "print('The percentage of the high school graduates attended college is', 778/(778+222)*100, '$')"
   ]
  },
  {
   "cell_type": "code",
   "execution_count": 8,
   "metadata": {},
   "outputs": [
    {
     "data": {
      "text/plain": [
       "1.74"
      ]
     },
     "execution_count": 8,
     "metadata": {},
     "output_type": "execute_result"
    }
   ],
   "source": [
    "data.grades.min()"
   ]
  },
  {
   "cell_type": "markdown",
   "metadata": {},
   "source": [
    "# (b)"
   ]
  },
  {
   "cell_type": "code",
   "execution_count": 9,
   "metadata": {},
   "outputs": [],
   "source": [
    "y = data.college\n",
    "X = data.drop(['psechoice', 'college'], axis=1)"
   ]
  },
  {
   "cell_type": "code",
   "execution_count": 10,
   "metadata": {},
   "outputs": [
    {
     "name": "stdout",
     "output_type": "stream",
     "text": [
      "Warning: Maximum number of iterations has been exceeded.\n",
      "         Current function value: 0.465465\n",
      "         Iterations: 35\n"
     ]
    },
    {
     "name": "stderr",
     "output_type": "stream",
     "text": [
      "C:\\Users\\Anna Danielyan\\Anaconda3\\lib\\site-packages\\statsmodels\\base\\model.py:508: ConvergenceWarning: Maximum Likelihood optimization failed to converge. Check mle_retvals\n",
      "  \"Check mle_retvals\", ConvergenceWarning)\n"
     ]
    },
    {
     "data": {
      "text/html": [
       "<table class=\"simpletable\">\n",
       "<caption>Probit Regression Results</caption>\n",
       "<tr>\n",
       "  <th>Dep. Variable:</th>      <td>college</td>     <th>  No. Observations:  </th>  <td>  1000</td>  \n",
       "</tr>\n",
       "<tr>\n",
       "  <th>Model:</th>              <td>Probit</td>      <th>  Df Residuals:      </th>  <td>   993</td>  \n",
       "</tr>\n",
       "<tr>\n",
       "  <th>Method:</th>               <td>MLE</td>       <th>  Df Model:          </th>  <td>     6</td>  \n",
       "</tr>\n",
       "<tr>\n",
       "  <th>Date:</th>          <td>Wed, 01 May 2019</td> <th>  Pseudo R-squ.:     </th>  <td>0.1208</td>  \n",
       "</tr>\n",
       "<tr>\n",
       "  <th>Time:</th>              <td>14:10:11</td>     <th>  Log-Likelihood:    </th> <td> -465.46</td> \n",
       "</tr>\n",
       "<tr>\n",
       "  <th>converged:</th>           <td>False</td>      <th>  LL-Null:           </th> <td> -529.43</td> \n",
       "</tr>\n",
       "<tr>\n",
       "  <th> </th>                      <td> </td>        <th>  LLR p-value:       </th> <td>3.512e-25</td>\n",
       "</tr>\n",
       "</table>\n",
       "<table class=\"simpletable\">\n",
       "<tr>\n",
       "     <td></td>        <th>coef</th>     <th>std err</th>      <th>z</th>      <th>P>|z|</th>  <th>[0.025</th>    <th>0.975]</th>  \n",
       "</tr>\n",
       "<tr>\n",
       "  <th>hscath</th>  <td>    6.5000</td> <td> 6.27e+04</td> <td>    0.000</td> <td> 1.000</td> <td>-1.23e+05</td> <td> 1.23e+05</td>\n",
       "</tr>\n",
       "<tr>\n",
       "  <th>grades</th>  <td>   -0.1030</td> <td>    0.017</td> <td>   -6.220</td> <td> 0.000</td> <td>   -0.135</td> <td>   -0.071</td>\n",
       "</tr>\n",
       "<tr>\n",
       "  <th>faminc</th>  <td>    0.0085</td> <td>    0.002</td> <td>    4.728</td> <td> 0.000</td> <td>    0.005</td> <td>    0.012</td>\n",
       "</tr>\n",
       "<tr>\n",
       "  <th>famsiz</th>  <td>    0.1628</td> <td>    0.030</td> <td>    5.339</td> <td> 0.000</td> <td>    0.103</td> <td>    0.223</td>\n",
       "</tr>\n",
       "<tr>\n",
       "  <th>parcoll</th> <td>    0.6527</td> <td>    0.132</td> <td>    4.946</td> <td> 0.000</td> <td>    0.394</td> <td>    0.911</td>\n",
       "</tr>\n",
       "<tr>\n",
       "  <th>female</th>  <td>    0.3183</td> <td>    0.092</td> <td>    3.460</td> <td> 0.001</td> <td>    0.138</td> <td>    0.499</td>\n",
       "</tr>\n",
       "<tr>\n",
       "  <th>black</th>   <td>    0.5187</td> <td>    0.214</td> <td>    2.422</td> <td> 0.015</td> <td>    0.099</td> <td>    0.938</td>\n",
       "</tr>\n",
       "</table>"
      ],
      "text/plain": [
       "<class 'statsmodels.iolib.summary.Summary'>\n",
       "\"\"\"\n",
       "                          Probit Regression Results                           \n",
       "==============================================================================\n",
       "Dep. Variable:                college   No. Observations:                 1000\n",
       "Model:                         Probit   Df Residuals:                      993\n",
       "Method:                           MLE   Df Model:                            6\n",
       "Date:                Wed, 01 May 2019   Pseudo R-squ.:                  0.1208\n",
       "Time:                        14:10:11   Log-Likelihood:                -465.46\n",
       "converged:                      False   LL-Null:                       -529.43\n",
       "                                        LLR p-value:                 3.512e-25\n",
       "==============================================================================\n",
       "                 coef    std err          z      P>|z|      [0.025      0.975]\n",
       "------------------------------------------------------------------------------\n",
       "hscath         6.5000   6.27e+04      0.000      1.000   -1.23e+05    1.23e+05\n",
       "grades        -0.1030      0.017     -6.220      0.000      -0.135      -0.071\n",
       "faminc         0.0085      0.002      4.728      0.000       0.005       0.012\n",
       "famsiz         0.1628      0.030      5.339      0.000       0.103       0.223\n",
       "parcoll        0.6527      0.132      4.946      0.000       0.394       0.911\n",
       "female         0.3183      0.092      3.460      0.001       0.138       0.499\n",
       "black          0.5187      0.214      2.422      0.015       0.099       0.938\n",
       "==============================================================================\n",
       "\"\"\""
      ]
     },
     "execution_count": 10,
     "metadata": {},
     "output_type": "execute_result"
    }
   ],
   "source": [
    "probit = sm.Probit(y, X)\n",
    "results_p = probit.fit()\n",
    "\n",
    "results_p.summary()"
   ]
  },
  {
   "cell_type": "markdown",
   "metadata": {},
   "source": [
    "\n",
    "# (c)"
   ]
  },
  {
   "cell_type": "code",
   "execution_count": 11,
   "metadata": {},
   "outputs": [],
   "source": [
    "grade_5 = 5\n",
    "grade_10 = 10\n",
    "faminc = np.mean(X.faminc)\n",
    "famsize = 5"
   ]
  },
  {
   "cell_type": "code",
   "execution_count": 12,
   "metadata": {},
   "outputs": [
    {
     "name": "stdout",
     "output_type": "stream",
     "text": [
      "The probability of attending college for a black female with GRADES = 5, FAMINC = sample mean, from a household with five members, with a parent who attended college is \n"
     ]
    },
    {
     "data": {
      "text/plain": [
       "2.223245729786343"
      ]
     },
     "execution_count": 12,
     "metadata": {},
     "output_type": "execute_result"
    }
   ],
   "source": [
    "print('The probability of attending college for a black female with GRADES = 5, FAMINC = sample mean, from a household with five members, with a parent who attended college is ')\n",
    "results_p.params[1]*grade_5 + results_p.params[2]*faminc + results_p.params[3]*famsize + results_p.params[4] + results_p.params[5] + results_p.params[6]"
   ]
  },
  {
   "cell_type": "code",
   "execution_count": 13,
   "metadata": {},
   "outputs": [
    {
     "name": "stdout",
     "output_type": "stream",
     "text": [
      "The probability of attending college for a black female with GRADES = 10, FAMINC = sample mean, from a household with five members, with a parent who attended college is \n"
     ]
    },
    {
     "data": {
      "text/plain": [
       "1.708113898753711"
      ]
     },
     "execution_count": 13,
     "metadata": {},
     "output_type": "execute_result"
    }
   ],
   "source": [
    "print('The probability of attending college for a black female with GRADES = 10, FAMINC = sample mean, from a household with five members, with a parent who attended college is ')\n",
    "results_p.params[1]*grade_10 + results_p.params[2]*faminc + results_p.params[3]*famsize + results_p.params[4] + results_p.params[5] + results_p.params[6]"
   ]
  },
  {
   "cell_type": "markdown",
   "metadata": {},
   "source": [
    "# (d)"
   ]
  },
  {
   "cell_type": "code",
   "execution_count": 14,
   "metadata": {},
   "outputs": [
    {
     "name": "stdout",
     "output_type": "stream",
     "text": [
      "The probability of attending college for a white female with GRADES = 5, FAMINC = sample mean, from a household with five members, with a parent who attended college is \n"
     ]
    },
    {
     "data": {
      "text/plain": [
       "1.7045116000119414"
      ]
     },
     "execution_count": 14,
     "metadata": {},
     "output_type": "execute_result"
    }
   ],
   "source": [
    "print('The probability of attending college for a white female with GRADES = 5, FAMINC = sample mean, from a household with five members, with a parent who attended college is ')\n",
    "results_p.params[1]*grade_5 + results_p.params[2]*faminc + results_p.params[3]*famsize + results_p.params[4] + results_p.params[5]"
   ]
  },
  {
   "cell_type": "code",
   "execution_count": 15,
   "metadata": {},
   "outputs": [
    {
     "name": "stdout",
     "output_type": "stream",
     "text": [
      "The probability of attending college for a white male with GRADES = 5, FAMINC = sample mean, from a household with five members, with a parent who attended college is \n"
     ]
    },
    {
     "data": {
      "text/plain": [
       "1.3862141265927783"
      ]
     },
     "execution_count": 15,
     "metadata": {},
     "output_type": "execute_result"
    }
   ],
   "source": [
    "print('The probability of attending college for a white male with GRADES = 5, FAMINC = sample mean, from a household with five members, with a parent who attended college is ')\n",
    "results_p.params[1]*grade_5 + results_p.params[2]*faminc + results_p.params[3]*famsize + results_p.params[4]"
   ]
  },
  {
   "cell_type": "code",
   "execution_count": 16,
   "metadata": {},
   "outputs": [
    {
     "name": "stdout",
     "output_type": "stream",
     "text": [
      "The probability of attending college for a white female with GRADES = 10, FAMINC = sample mean, from a household with five members, with a parent who attended college is \n"
     ]
    },
    {
     "data": {
      "text/plain": [
       "1.1893797689793093"
      ]
     },
     "execution_count": 16,
     "metadata": {},
     "output_type": "execute_result"
    }
   ],
   "source": [
    "print('The probability of attending college for a white female with GRADES = 10, FAMINC = sample mean, from a household with five members, with a parent who attended college is ')\n",
    "results_p.params[1]*grade_10 + results_p.params[2]*faminc + results_p.params[3]*famsize + results_p.params[4] + results_p.params[5]"
   ]
  },
  {
   "cell_type": "code",
   "execution_count": 17,
   "metadata": {},
   "outputs": [
    {
     "name": "stdout",
     "output_type": "stream",
     "text": [
      "The probability of attending college for a white male with GRADES = 10, FAMINC = sample mean, from a household with five members, with a parent who attended college is \n"
     ]
    },
    {
     "data": {
      "text/plain": [
       "0.8710822955601462"
      ]
     },
     "execution_count": 17,
     "metadata": {},
     "output_type": "execute_result"
    }
   ],
   "source": [
    "print('The probability of attending college for a white male with GRADES = 10, FAMINC = sample mean, from a household with five members, with a parent who attended college is ')\n",
    "results_p.params[1]*grade_10 + results_p.params[2]*faminc + results_p.params[3]*famsize + results_p.params[4]"
   ]
  },
  {
   "cell_type": "markdown",
   "metadata": {},
   "source": [
    "# (e)"
   ]
  },
  {
   "cell_type": "code",
   "execution_count": 18,
   "metadata": {},
   "outputs": [
    {
     "name": "stdout",
     "output_type": "stream",
     "text": [
      "Warning: Maximum number of iterations has been exceeded.\n",
      "         Current function value: 0.487337\n",
      "         Iterations: 35\n"
     ]
    },
    {
     "name": "stderr",
     "output_type": "stream",
     "text": [
      "C:\\Users\\Anna Danielyan\\Anaconda3\\lib\\site-packages\\statsmodels\\base\\model.py:508: ConvergenceWarning: Maximum Likelihood optimization failed to converge. Check mle_retvals\n",
      "  \"Check mle_retvals\", ConvergenceWarning)\n"
     ]
    },
    {
     "data": {
      "text/html": [
       "<table class=\"simpletable\">\n",
       "<caption>Probit Regression Results</caption>\n",
       "<tr>\n",
       "  <th>Dep. Variable:</th>      <td>college</td>     <th>  No. Observations:  </th>  <td>  1000</td>  \n",
       "</tr>\n",
       "<tr>\n",
       "  <th>Model:</th>              <td>Probit</td>      <th>  Df Residuals:      </th>  <td>   996</td>  \n",
       "</tr>\n",
       "<tr>\n",
       "  <th>Method:</th>               <td>MLE</td>       <th>  Df Model:          </th>  <td>     3</td>  \n",
       "</tr>\n",
       "<tr>\n",
       "  <th>Date:</th>          <td>Wed, 01 May 2019</td> <th>  Pseudo R-squ.:     </th>  <td>0.07950</td> \n",
       "</tr>\n",
       "<tr>\n",
       "  <th>Time:</th>              <td>14:10:12</td>     <th>  Log-Likelihood:    </th> <td> -487.34</td> \n",
       "</tr>\n",
       "<tr>\n",
       "  <th>converged:</th>           <td>False</td>      <th>  LL-Null:           </th> <td> -529.43</td> \n",
       "</tr>\n",
       "<tr>\n",
       "  <th> </th>                      <td> </td>        <th>  LLR p-value:       </th> <td>3.889e-18</td>\n",
       "</tr>\n",
       "</table>\n",
       "<table class=\"simpletable\">\n",
       "<tr>\n",
       "     <td></td>       <th>coef</th>     <th>std err</th>      <th>z</th>      <th>P>|z|</th>  <th>[0.025</th>    <th>0.975]</th>  \n",
       "</tr>\n",
       "<tr>\n",
       "  <th>hscath</th> <td>    6.6495</td> <td> 3.28e+04</td> <td>    0.000</td> <td> 1.000</td> <td>-6.42e+04</td> <td> 6.42e+04</td>\n",
       "</tr>\n",
       "<tr>\n",
       "  <th>grades</th> <td>   -0.0991</td> <td>    0.016</td> <td>   -6.311</td> <td> 0.000</td> <td>   -0.130</td> <td>   -0.068</td>\n",
       "</tr>\n",
       "<tr>\n",
       "  <th>faminc</th> <td>    0.0123</td> <td>    0.002</td> <td>    7.569</td> <td> 0.000</td> <td>    0.009</td> <td>    0.015</td>\n",
       "</tr>\n",
       "<tr>\n",
       "  <th>famsiz</th> <td>    0.1889</td> <td>    0.029</td> <td>    6.507</td> <td> 0.000</td> <td>    0.132</td> <td>    0.246</td>\n",
       "</tr>\n",
       "</table>"
      ],
      "text/plain": [
       "<class 'statsmodels.iolib.summary.Summary'>\n",
       "\"\"\"\n",
       "                          Probit Regression Results                           \n",
       "==============================================================================\n",
       "Dep. Variable:                college   No. Observations:                 1000\n",
       "Model:                         Probit   Df Residuals:                      996\n",
       "Method:                           MLE   Df Model:                            3\n",
       "Date:                Wed, 01 May 2019   Pseudo R-squ.:                 0.07950\n",
       "Time:                        14:10:12   Log-Likelihood:                -487.34\n",
       "converged:                      False   LL-Null:                       -529.43\n",
       "                                        LLR p-value:                 3.889e-18\n",
       "==============================================================================\n",
       "                 coef    std err          z      P>|z|      [0.025      0.975]\n",
       "------------------------------------------------------------------------------\n",
       "hscath         6.6495   3.28e+04      0.000      1.000   -6.42e+04    6.42e+04\n",
       "grades        -0.0991      0.016     -6.311      0.000      -0.130      -0.068\n",
       "faminc         0.0123      0.002      7.569      0.000       0.009       0.015\n",
       "famsiz         0.1889      0.029      6.507      0.000       0.132       0.246\n",
       "==============================================================================\n",
       "\"\"\""
      ]
     },
     "execution_count": 18,
     "metadata": {},
     "output_type": "execute_result"
    }
   ],
   "source": [
    "X_new = data.drop(['psechoice', 'college', 'parcoll', 'black', 'female'], axis=1)\n",
    "probit_new = sm.Probit(y, X_new)\n",
    "results_p_new = probit_new.fit()\n",
    "\n",
    "results_p_new.summary()"
   ]
  },
  {
   "cell_type": "code",
   "execution_count": null,
   "metadata": {},
   "outputs": [],
   "source": []
  },
  {
   "cell_type": "code",
   "execution_count": null,
   "metadata": {},
   "outputs": [],
   "source": []
  }
 ],
 "metadata": {
  "kernelspec": {
   "display_name": "Python 3",
   "language": "python",
   "name": "python3"
  },
  "language_info": {
   "codemirror_mode": {
    "name": "ipython",
    "version": 3
   },
   "file_extension": ".py",
   "mimetype": "text/x-python",
   "name": "python",
   "nbconvert_exporter": "python",
   "pygments_lexer": "ipython3",
   "version": "3.6.5"
  }
 },
 "nbformat": 4,
 "nbformat_minor": 2
}
