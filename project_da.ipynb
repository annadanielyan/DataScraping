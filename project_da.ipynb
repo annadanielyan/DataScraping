{
 "cells": [
  {
   "cell_type": "code",
   "execution_count": 2,
   "metadata": {},
   "outputs": [],
   "source": [
    "# Data Imports\n",
    "import numpy as np\n",
    "import pandas as pd\n",
    "from pandas import Series,DataFrame\n",
    "\n",
    "# Math\n",
    "import math\n",
    "\n",
    "# Plot imports\n",
    "import matplotlib.pyplot as plt\n",
    "import seaborn as sns\n",
    "sns.set_style('whitegrid')\n",
    "%matplotlib inline\n",
    "\n",
    "# Machine Learning Imports\n",
    "from sklearn.linear_model import LogisticRegression\n",
    "from sklearn.model_selection import train_test_split\n",
    "\n",
    "# For evaluating our ML results\n",
    "from sklearn import metrics\n",
    "\n",
    "# Dataset Import\n",
    "import statsmodels.api as sm"
   ]
  },
  {
   "cell_type": "code",
   "execution_count": 3,
   "metadata": {},
   "outputs": [],
   "source": [
    "data = pd.read_csv('weatherYerevan_2014-2019.csv')"
   ]
  },
  {
   "cell_type": "code",
   "execution_count": 4,
   "metadata": {},
   "outputs": [
    {
     "data": {
      "text/html": [
       "<div>\n",
       "<style scoped>\n",
       "    .dataframe tbody tr th:only-of-type {\n",
       "        vertical-align: middle;\n",
       "    }\n",
       "\n",
       "    .dataframe tbody tr th {\n",
       "        vertical-align: top;\n",
       "    }\n",
       "\n",
       "    .dataframe thead th {\n",
       "        text-align: right;\n",
       "    }\n",
       "</style>\n",
       "<table border=\"1\" class=\"dataframe\">\n",
       "  <thead>\n",
       "    <tr style=\"text-align: right;\">\n",
       "      <th></th>\n",
       "      <th>dt</th>\n",
       "      <th>dt_iso</th>\n",
       "      <th>temp</th>\n",
       "      <th>temp_min</th>\n",
       "      <th>temp_max</th>\n",
       "      <th>pressure</th>\n",
       "      <th>humidity</th>\n",
       "      <th>wind_speed</th>\n",
       "      <th>wind_deg</th>\n",
       "      <th>clouds_all</th>\n",
       "      <th>weather_id</th>\n",
       "      <th>weather_main</th>\n",
       "      <th>weather_description</th>\n",
       "      <th>weather_icon</th>\n",
       "    </tr>\n",
       "  </thead>\n",
       "  <tbody>\n",
       "    <tr>\n",
       "      <th>0</th>\n",
       "      <td>1388534400</td>\n",
       "      <td>2014-01-01 00:00:00 +0000 UTC</td>\n",
       "      <td>263.15</td>\n",
       "      <td>263.15</td>\n",
       "      <td>263.15</td>\n",
       "      <td>1027</td>\n",
       "      <td>78</td>\n",
       "      <td>0</td>\n",
       "      <td>0</td>\n",
       "      <td>75</td>\n",
       "      <td>803</td>\n",
       "      <td>Clouds</td>\n",
       "      <td>broken clouds</td>\n",
       "      <td>4</td>\n",
       "    </tr>\n",
       "    <tr>\n",
       "      <th>1</th>\n",
       "      <td>1388538000</td>\n",
       "      <td>2014-01-01 01:00:00 +0000 UTC</td>\n",
       "      <td>263.15</td>\n",
       "      <td>263.15</td>\n",
       "      <td>263.15</td>\n",
       "      <td>1027</td>\n",
       "      <td>78</td>\n",
       "      <td>0</td>\n",
       "      <td>176</td>\n",
       "      <td>75</td>\n",
       "      <td>701</td>\n",
       "      <td>Mist</td>\n",
       "      <td>mist</td>\n",
       "      <td>50n</td>\n",
       "    </tr>\n",
       "    <tr>\n",
       "      <th>2</th>\n",
       "      <td>1388541600</td>\n",
       "      <td>2014-01-01 02:00:00 +0000 UTC</td>\n",
       "      <td>263.15</td>\n",
       "      <td>263.15</td>\n",
       "      <td>263.15</td>\n",
       "      <td>1027</td>\n",
       "      <td>78</td>\n",
       "      <td>1</td>\n",
       "      <td>0</td>\n",
       "      <td>75</td>\n",
       "      <td>701</td>\n",
       "      <td>Mist</td>\n",
       "      <td>mist</td>\n",
       "      <td>50n</td>\n",
       "    </tr>\n",
       "    <tr>\n",
       "      <th>3</th>\n",
       "      <td>1388545200</td>\n",
       "      <td>2014-01-01 03:00:00 +0000 UTC</td>\n",
       "      <td>263.15</td>\n",
       "      <td>263.15</td>\n",
       "      <td>263.15</td>\n",
       "      <td>1027</td>\n",
       "      <td>85</td>\n",
       "      <td>2</td>\n",
       "      <td>0</td>\n",
       "      <td>75</td>\n",
       "      <td>701</td>\n",
       "      <td>Mist</td>\n",
       "      <td>mist</td>\n",
       "      <td>50n</td>\n",
       "    </tr>\n",
       "    <tr>\n",
       "      <th>4</th>\n",
       "      <td>1388548800</td>\n",
       "      <td>2014-01-01 04:00:00 +0000 UTC</td>\n",
       "      <td>262.15</td>\n",
       "      <td>262.15</td>\n",
       "      <td>262.15</td>\n",
       "      <td>1028</td>\n",
       "      <td>85</td>\n",
       "      <td>2</td>\n",
       "      <td>0</td>\n",
       "      <td>75</td>\n",
       "      <td>701</td>\n",
       "      <td>Mist</td>\n",
       "      <td>mist</td>\n",
       "      <td>50d</td>\n",
       "    </tr>\n",
       "  </tbody>\n",
       "</table>\n",
       "</div>"
      ],
      "text/plain": [
       "           dt                         dt_iso    temp  temp_min  temp_max  \\\n",
       "0  1388534400  2014-01-01 00:00:00 +0000 UTC  263.15    263.15    263.15   \n",
       "1  1388538000  2014-01-01 01:00:00 +0000 UTC  263.15    263.15    263.15   \n",
       "2  1388541600  2014-01-01 02:00:00 +0000 UTC  263.15    263.15    263.15   \n",
       "3  1388545200  2014-01-01 03:00:00 +0000 UTC  263.15    263.15    263.15   \n",
       "4  1388548800  2014-01-01 04:00:00 +0000 UTC  262.15    262.15    262.15   \n",
       "\n",
       "   pressure  humidity  wind_speed  wind_deg  clouds_all  weather_id  \\\n",
       "0      1027        78           0         0          75         803   \n",
       "1      1027        78           0       176          75         701   \n",
       "2      1027        78           1         0          75         701   \n",
       "3      1027        85           2         0          75         701   \n",
       "4      1028        85           2         0          75         701   \n",
       "\n",
       "  weather_main weather_description weather_icon  \n",
       "0       Clouds       broken clouds            4  \n",
       "1         Mist                mist          50n  \n",
       "2         Mist                mist          50n  \n",
       "3         Mist                mist          50n  \n",
       "4         Mist                mist          50d  "
      ]
     },
     "execution_count": 4,
     "metadata": {},
     "output_type": "execute_result"
    }
   ],
   "source": [
    "data.head()"
   ]
  },
  {
   "cell_type": "code",
   "execution_count": 16,
   "metadata": {},
   "outputs": [],
   "source": [
    "#Create data index\n",
    "ts = pd.period_range('2014-01-01 00:00:00', periods=36244, freq='H')\n",
    "data['Date'] = ts\n",
    "data.set_index('Date', inplace=True)"
   ]
  },
  {
   "cell_type": "code",
   "execution_count": 10,
   "metadata": {},
   "outputs": [
    {
     "data": {
      "text/plain": [
       "'2014-01-01 00:00:00 +0000 UTC'"
      ]
     },
     "execution_count": 10,
     "metadata": {},
     "output_type": "execute_result"
    }
   ],
   "source": [
    "data.dt_iso[0]"
   ]
  },
  {
   "cell_type": "code",
   "execution_count": 14,
   "metadata": {
    "scrolled": true
   },
   "outputs": [
    {
     "data": {
      "text/plain": [
       "0    2014-01-01 00:00:00 +0000 UTC\n",
       "1    2014-01-01 01:00:00 +0000 UTC\n",
       "2    2014-01-01 02:00:00 +0000 UTC\n",
       "3    2014-01-01 03:00:00 +0000 UTC\n",
       "4    2014-01-01 04:00:00 +0000 UTC\n",
       "Name: dt_iso, dtype: object"
      ]
     },
     "execution_count": 14,
     "metadata": {},
     "output_type": "execute_result"
    }
   ],
   "source": [
    "data.dt_iso.head()"
   ]
  },
  {
   "cell_type": "code",
   "execution_count": 17,
   "metadata": {},
   "outputs": [
    {
     "data": {
      "text/html": [
       "<div>\n",
       "<style scoped>\n",
       "    .dataframe tbody tr th:only-of-type {\n",
       "        vertical-align: middle;\n",
       "    }\n",
       "\n",
       "    .dataframe tbody tr th {\n",
       "        vertical-align: top;\n",
       "    }\n",
       "\n",
       "    .dataframe thead th {\n",
       "        text-align: right;\n",
       "    }\n",
       "</style>\n",
       "<table border=\"1\" class=\"dataframe\">\n",
       "  <thead>\n",
       "    <tr style=\"text-align: right;\">\n",
       "      <th></th>\n",
       "      <th>dt</th>\n",
       "      <th>dt_iso</th>\n",
       "      <th>temp</th>\n",
       "      <th>temp_min</th>\n",
       "      <th>temp_max</th>\n",
       "      <th>pressure</th>\n",
       "      <th>humidity</th>\n",
       "      <th>wind_speed</th>\n",
       "      <th>wind_deg</th>\n",
       "      <th>clouds_all</th>\n",
       "      <th>weather_id</th>\n",
       "      <th>weather_main</th>\n",
       "      <th>weather_description</th>\n",
       "      <th>weather_icon</th>\n",
       "    </tr>\n",
       "    <tr>\n",
       "      <th>Date</th>\n",
       "      <th></th>\n",
       "      <th></th>\n",
       "      <th></th>\n",
       "      <th></th>\n",
       "      <th></th>\n",
       "      <th></th>\n",
       "      <th></th>\n",
       "      <th></th>\n",
       "      <th></th>\n",
       "      <th></th>\n",
       "      <th></th>\n",
       "      <th></th>\n",
       "      <th></th>\n",
       "      <th></th>\n",
       "    </tr>\n",
       "  </thead>\n",
       "  <tbody>\n",
       "    <tr>\n",
       "      <th>2014-01-01 00:00</th>\n",
       "      <td>1388534400</td>\n",
       "      <td>2014-01-01 00:00:00 +0000 UTC</td>\n",
       "      <td>263.15</td>\n",
       "      <td>263.15</td>\n",
       "      <td>263.15</td>\n",
       "      <td>1027</td>\n",
       "      <td>78</td>\n",
       "      <td>0</td>\n",
       "      <td>0</td>\n",
       "      <td>75</td>\n",
       "      <td>803</td>\n",
       "      <td>Clouds</td>\n",
       "      <td>broken clouds</td>\n",
       "      <td>4</td>\n",
       "    </tr>\n",
       "    <tr>\n",
       "      <th>2014-01-01 01:00</th>\n",
       "      <td>1388538000</td>\n",
       "      <td>2014-01-01 01:00:00 +0000 UTC</td>\n",
       "      <td>263.15</td>\n",
       "      <td>263.15</td>\n",
       "      <td>263.15</td>\n",
       "      <td>1027</td>\n",
       "      <td>78</td>\n",
       "      <td>0</td>\n",
       "      <td>176</td>\n",
       "      <td>75</td>\n",
       "      <td>701</td>\n",
       "      <td>Mist</td>\n",
       "      <td>mist</td>\n",
       "      <td>50n</td>\n",
       "    </tr>\n",
       "    <tr>\n",
       "      <th>2014-01-01 02:00</th>\n",
       "      <td>1388541600</td>\n",
       "      <td>2014-01-01 02:00:00 +0000 UTC</td>\n",
       "      <td>263.15</td>\n",
       "      <td>263.15</td>\n",
       "      <td>263.15</td>\n",
       "      <td>1027</td>\n",
       "      <td>78</td>\n",
       "      <td>1</td>\n",
       "      <td>0</td>\n",
       "      <td>75</td>\n",
       "      <td>701</td>\n",
       "      <td>Mist</td>\n",
       "      <td>mist</td>\n",
       "      <td>50n</td>\n",
       "    </tr>\n",
       "    <tr>\n",
       "      <th>2014-01-01 03:00</th>\n",
       "      <td>1388545200</td>\n",
       "      <td>2014-01-01 03:00:00 +0000 UTC</td>\n",
       "      <td>263.15</td>\n",
       "      <td>263.15</td>\n",
       "      <td>263.15</td>\n",
       "      <td>1027</td>\n",
       "      <td>85</td>\n",
       "      <td>2</td>\n",
       "      <td>0</td>\n",
       "      <td>75</td>\n",
       "      <td>701</td>\n",
       "      <td>Mist</td>\n",
       "      <td>mist</td>\n",
       "      <td>50n</td>\n",
       "    </tr>\n",
       "    <tr>\n",
       "      <th>2014-01-01 04:00</th>\n",
       "      <td>1388548800</td>\n",
       "      <td>2014-01-01 04:00:00 +0000 UTC</td>\n",
       "      <td>262.15</td>\n",
       "      <td>262.15</td>\n",
       "      <td>262.15</td>\n",
       "      <td>1028</td>\n",
       "      <td>85</td>\n",
       "      <td>2</td>\n",
       "      <td>0</td>\n",
       "      <td>75</td>\n",
       "      <td>701</td>\n",
       "      <td>Mist</td>\n",
       "      <td>mist</td>\n",
       "      <td>50d</td>\n",
       "    </tr>\n",
       "  </tbody>\n",
       "</table>\n",
       "</div>"
      ],
      "text/plain": [
       "                          dt                         dt_iso    temp  temp_min  \\\n",
       "Date                                                                            \n",
       "2014-01-01 00:00  1388534400  2014-01-01 00:00:00 +0000 UTC  263.15    263.15   \n",
       "2014-01-01 01:00  1388538000  2014-01-01 01:00:00 +0000 UTC  263.15    263.15   \n",
       "2014-01-01 02:00  1388541600  2014-01-01 02:00:00 +0000 UTC  263.15    263.15   \n",
       "2014-01-01 03:00  1388545200  2014-01-01 03:00:00 +0000 UTC  263.15    263.15   \n",
       "2014-01-01 04:00  1388548800  2014-01-01 04:00:00 +0000 UTC  262.15    262.15   \n",
       "\n",
       "                  temp_max  pressure  humidity  wind_speed  wind_deg  \\\n",
       "Date                                                                   \n",
       "2014-01-01 00:00    263.15      1027        78           0         0   \n",
       "2014-01-01 01:00    263.15      1027        78           0       176   \n",
       "2014-01-01 02:00    263.15      1027        78           1         0   \n",
       "2014-01-01 03:00    263.15      1027        85           2         0   \n",
       "2014-01-01 04:00    262.15      1028        85           2         0   \n",
       "\n",
       "                  clouds_all  weather_id weather_main weather_description  \\\n",
       "Date                                                                        \n",
       "2014-01-01 00:00          75         803       Clouds       broken clouds   \n",
       "2014-01-01 01:00          75         701         Mist                mist   \n",
       "2014-01-01 02:00          75         701         Mist                mist   \n",
       "2014-01-01 03:00          75         701         Mist                mist   \n",
       "2014-01-01 04:00          75         701         Mist                mist   \n",
       "\n",
       "                 weather_icon  \n",
       "Date                           \n",
       "2014-01-01 00:00            4  \n",
       "2014-01-01 01:00          50n  \n",
       "2014-01-01 02:00          50n  \n",
       "2014-01-01 03:00          50n  \n",
       "2014-01-01 04:00          50d  "
      ]
     },
     "execution_count": 17,
     "metadata": {},
     "output_type": "execute_result"
    }
   ],
   "source": [
    "data.head()"
   ]
  },
  {
   "cell_type": "code",
   "execution_count": 69,
   "metadata": {},
   "outputs": [
    {
     "data": {
      "image/png": "[encoded data removed]",
      "text/plain": [
       "<Figure size 432x288 with 1 Axes>"
      ]
     },
     "metadata": {},
     "output_type": "display_data"
    }
   ],
   "source": [
    "# Temperature plot\n",
    "data.temp.plot()\n",
    "plt.show()"
   ]
  },
  {
   "cell_type": "code",
   "execution_count": 19,
   "metadata": {},
   "outputs": [],
   "source": [
    "# First 3 lags of temp\n",
    "data['lag_temp1'] = data['temp'].shift(1)\n",
    "data['lag_temp2'] = data['temp'].shift(2)\n",
    "data['lag_temp3'] = data['temp'].shift(3)"
   ]
  },
  {
   "cell_type": "code",
   "execution_count": 38,
   "metadata": {},
   "outputs": [],
   "source": [
    "data['weather_main'] = data.weather_main.astype('category')"
   ]
  },
  {
   "cell_type": "code",
   "execution_count": 20,
   "metadata": {},
   "outputs": [],
   "source": [
    "# Import the linear regression from statsmodels\n",
    "import statsmodels.api as sm"
   ]
  },
  {
   "cell_type": "code",
   "execution_count": 21,
   "metadata": {},
   "outputs": [],
   "source": [
    "# drop columns and nan values\n",
    "data.dropna(inplace=True)"
   ]
  },
  {
   "cell_type": "code",
   "execution_count": 77,
   "metadata": {},
   "outputs": [],
   "source": [
    "# Prepare target and input variables.\n",
    "X1_multi=data.drop(['temp', 'dt', 'dt_iso', 'weather_id', 'weather_main', 'weather_description', 'weather_icon', 'lag_temp3', 'clouds_all', 'temp_min', 'temp_max'], axis=1)\n",
    "Y_target=data.temp"
   ]
  },
  {
   "cell_type": "code",
   "execution_count": 78,
   "metadata": {},
   "outputs": [],
   "source": [
    "# Add the costant to our input variables\n",
    "X1_multi=sm.tools.tools.add_constant(X1_multi, prepend=True, has_constant='skip')"
   ]
  },
  {
   "cell_type": "code",
   "execution_count": 81,
   "metadata": {},
   "outputs": [
    {
     "data": {
      "text/html": [
       "<table class=\"simpletable\">\n",
       "<caption>OLS Regression Results</caption>\n",
       "<tr>\n",
       "  <th>Dep. Variable:</th>          <td>temp</td>       <th>  R-squared:         </th> <td>   0.979</td> \n",
       "</tr>\n",
       "<tr>\n",
       "  <th>Model:</th>                   <td>OLS</td>       <th>  Adj. R-squared:    </th> <td>   0.979</td> \n",
       "</tr>\n",
       "<tr>\n",
       "  <th>Method:</th>             <td>Least Squares</td>  <th>  F-statistic:       </th> <td>2.792e+05</td>\n",
       "</tr>\n",
       "<tr>\n",
       "  <th>Date:</th>             <td>Tue, 07 May 2019</td> <th>  Prob (F-statistic):</th>  <td>  0.00</td>  \n",
       "</tr>\n",
       "<tr>\n",
       "  <th>Time:</th>                 <td>12:47:17</td>     <th>  Log-Likelihood:    </th> <td> -72460.</td> \n",
       "</tr>\n",
       "<tr>\n",
       "  <th>No. Observations:</th>      <td> 36241</td>      <th>  AIC:               </th> <td>1.449e+05</td>\n",
       "</tr>\n",
       "<tr>\n",
       "  <th>Df Residuals:</th>          <td> 36234</td>      <th>  BIC:               </th> <td>1.450e+05</td>\n",
       "</tr>\n",
       "<tr>\n",
       "  <th>Df Model:</th>              <td>     6</td>      <th>                     </th>     <td> </td>    \n",
       "</tr>\n",
       "<tr>\n",
       "  <th>Covariance Type:</th>      <td>nonrobust</td>    <th>                     </th>     <td> </td>    \n",
       "</tr>\n",
       "</table>\n",
       "<table class=\"simpletable\">\n",
       "<tr>\n",
       "       <td></td>         <th>coef</th>     <th>std err</th>      <th>t</th>      <th>P>|t|</th>  <th>[0.025</th>    <th>0.975]</th>  \n",
       "</tr>\n",
       "<tr>\n",
       "  <th>const</th>      <td>   10.7354</td> <td>    0.468</td> <td>   22.958</td> <td> 0.000</td> <td>    9.819</td> <td>   11.652</td>\n",
       "</tr>\n",
       "<tr>\n",
       "  <th>pressure</th>   <td>    0.0030</td> <td>    0.000</td> <td>   11.303</td> <td> 0.000</td> <td>    0.002</td> <td>    0.004</td>\n",
       "</tr>\n",
       "<tr>\n",
       "  <th>humidity</th>   <td>   -0.0227</td> <td>    0.001</td> <td>  -39.789</td> <td> 0.000</td> <td>   -0.024</td> <td>   -0.022</td>\n",
       "</tr>\n",
       "<tr>\n",
       "  <th>wind_speed</th> <td>   -0.0871</td> <td>    0.006</td> <td>  -15.376</td> <td> 0.000</td> <td>   -0.098</td> <td>   -0.076</td>\n",
       "</tr>\n",
       "<tr>\n",
       "  <th>wind_deg</th>   <td>   -0.0006</td> <td>  8.5e-05</td> <td>   -7.615</td> <td> 0.000</td> <td>   -0.001</td> <td>   -0.000</td>\n",
       "</tr>\n",
       "<tr>\n",
       "  <th>lag_temp1</th>  <td>    1.1575</td> <td>    0.005</td> <td>  221.040</td> <td> 0.000</td> <td>    1.147</td> <td>    1.168</td>\n",
       "</tr>\n",
       "<tr>\n",
       "  <th>lag_temp2</th>  <td>   -0.2003</td> <td>    0.005</td> <td>  -39.354</td> <td> 0.000</td> <td>   -0.210</td> <td>   -0.190</td>\n",
       "</tr>\n",
       "</table>\n",
       "<table class=\"simpletable\">\n",
       "<tr>\n",
       "  <th>Omnibus:</th>       <td>5632.560</td> <th>  Durbin-Watson:     </th>  <td>   1.912</td> \n",
       "</tr>\n",
       "<tr>\n",
       "  <th>Prob(Omnibus):</th>  <td> 0.000</td>  <th>  Jarque-Bera (JB):  </th> <td>101852.921</td>\n",
       "</tr>\n",
       "<tr>\n",
       "  <th>Skew:</th>           <td> 0.068</td>  <th>  Prob(JB):          </th>  <td>    0.00</td> \n",
       "</tr>\n",
       "<tr>\n",
       "  <th>Kurtosis:</th>       <td>11.212</td>  <th>  Cond. No.          </th>  <td>5.44e+04</td> \n",
       "</tr>\n",
       "</table><br/><br/>Warnings:<br/>[1] Standard Errors assume that the covariance matrix of the errors is correctly specified.<br/>[2] The condition number is large, 5.44e+04. This might indicate that there are<br/>strong multicollinearity or other numerical problems."
      ],
      "text/plain": [
       "<class 'statsmodels.iolib.summary.Summary'>\n",
       "\"\"\"\n",
       "                            OLS Regression Results                            \n",
       "==============================================================================\n",
       "Dep. Variable:                   temp   R-squared:                       0.979\n",
       "Model:                            OLS   Adj. R-squared:                  0.979\n",
       "Method:                 Least Squares   F-statistic:                 2.792e+05\n",
       "Date:                Tue, 07 May 2019   Prob (F-statistic):               0.00\n",
       "Time:                        12:47:17   Log-Likelihood:                -72460.\n",
       "No. Observations:               36241   AIC:                         1.449e+05\n",
       "Df Residuals:                   36234   BIC:                         1.450e+05\n",
       "Df Model:                           6                                         \n",
       "Covariance Type:            nonrobust                                         \n",
       "==============================================================================\n",
       "                 coef    std err          t      P>|t|      [0.025      0.975]\n",
       "------------------------------------------------------------------------------\n",
       "const         10.7354      0.468     22.958      0.000       9.819      11.652\n",
       "pressure       0.0030      0.000     11.303      0.000       0.002       0.004\n",
       "humidity      -0.0227      0.001    -39.789      0.000      -0.024      -0.022\n",
       "wind_speed    -0.0871      0.006    -15.376      0.000      -0.098      -0.076\n",
       "wind_deg      -0.0006    8.5e-05     -7.615      0.000      -0.001      -0.000\n",
       "lag_temp1      1.1575      0.005    221.040      0.000       1.147       1.168\n",
       "lag_temp2     -0.2003      0.005    -39.354      0.000      -0.210      -0.190\n",
       "==============================================================================\n",
       "Omnibus:                     5632.560   Durbin-Watson:                   1.912\n",
       "Prob(Omnibus):                  0.000   Jarque-Bera (JB):           101852.921\n",
       "Skew:                           0.068   Prob(JB):                         0.00\n",
       "Kurtosis:                      11.212   Cond. No.                     5.44e+04\n",
       "==============================================================================\n",
       "\n",
       "Warnings:\n",
       "[1] Standard Errors assume that the covariance matrix of the errors is correctly specified.\n",
       "[2] The condition number is large, 5.44e+04. This might indicate that there are\n",
       "strong multicollinearity or other numerical problems.\n",
       "\"\"\""
      ]
     },
     "execution_count": 81,
     "metadata": {},
     "output_type": "execute_result"
    }
   ],
   "source": [
    "# OLS Regression (Model with 2 lags)\n",
    "model = sm.OLS(Y_target, X1_multi)\n",
    "model_fit = model.fit()\n",
    "model_fit.summary()"
   ]
  },
  {
   "cell_type": "code",
   "execution_count": 7,
   "metadata": {},
   "outputs": [
    {
     "data": {
      "image/png": "[encoded data removed]",
      "text/plain": [
       "<Figure size 1080x360 with 1 Axes>"
      ]
     },
     "metadata": {},
     "output_type": "display_data"
    }
   ],
   "source": [
    "data.weather_main.value_counts().plot(kind='bar', figsize=(15,5))\n",
    "plt.show()"
   ]
  },
  {
   "cell_type": "code",
   "execution_count": 91,
   "metadata": {},
   "outputs": [],
   "source": [
    "import numpy as np\n",
    "import pandas as pd\n",
    "import seaborn as sns\n",
    "import matplotlib.pyplot as plt\n",
    "from scipy import stats"
   ]
  },
  {
   "cell_type": "code",
   "execution_count": 95,
   "metadata": {
    "scrolled": false
   },
   "outputs": [
    {
     "data": {
      "image/png": "[encoded data removed]",
      "text/plain": [
       "<Figure size 432x288 with 1 Axes>"
      ]
     },
     "metadata": {},
     "output_type": "display_data"
    }
   ],
   "source": [
    "sns.distplot(data.wind_speed, hist=False, rug=True);"
   ]
  },
  {
   "cell_type": "code",
   "execution_count": 94,
   "metadata": {},
   "outputs": [
    {
     "data": {
      "text/plain": [
       "Text(0,0.5,'FVC')"
      ]
     },
     "execution_count": 94,
     "metadata": {},
     "output_type": "execute_result"
    },
    {
     "data": {
      "image/png": "[encoded data removed]",
      "text/plain": [
       "<Figure size 1080x360 with 3 Axes>"
      ]
     },
     "metadata": {},
     "output_type": "display_data"
    }
   ],
   "source": [
    "fig, axs = plt.subplots(1,3, figsize=(15,5))\n",
    "\n",
    "axs[0].plot(data.wind_speed, data.humidity, linestyle='none', marker='.')\n",
    "axs[0].set_xlabel('Age')\n",
    "axs[0].set_ylabel('FVC')"
   ]
  },
  {
   "cell_type": "code",
   "execution_count": null,
   "metadata": {},
   "outputs": [],
   "source": []
  }
 ],
 "metadata": {
  "kernelspec": {
   "display_name": "Python 3",
   "language": "python",
   "name": "python3"
  },
  "language_info": {
   "codemirror_mode": {
    "name": "ipython",
    "version": 3
   },
   "file_extension": ".py",
   "mimetype": "text/x-python",
   "name": "python",
   "nbconvert_exporter": "python",
   "pygments_lexer": "ipython3",
   "version": "3.6.5"
  }
 },
 "nbformat": 4,
 "nbformat_minor": 2
}
